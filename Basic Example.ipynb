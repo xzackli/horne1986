{
 "cells": [
  {
   "cell_type": "code",
   "execution_count": 10,
   "metadata": {
    "collapsed": true
   },
   "outputs": [],
   "source": [
    "% matplotlib inline\n",
    "%config InlineBackend.figure_format = 'retina'\n",
    "\n",
    "import numpy as np\n",
    "import matplotlib.pyplot as plt"
   ]
  },
  {
   "cell_type": "markdown",
   "metadata": {},
   "source": [
    "We generate some data. I use a step function profile, with a $x-x^7$ signal."
   ]
  },
  {
   "cell_type": "code",
   "execution_count": 51,
   "metadata": {},
   "outputs": [
    {
     "data": {
      "text/plain": [
       "<matplotlib.image.AxesImage at 0x11156a080>"
      ]
     },
     "execution_count": 51,
     "metadata": {},
     "output_type": "execute_result"
    },
    {
     "data": {
      "image/png": "[encoded data removed]",
      "text/plain": [
       "<matplotlib.figure.Figure at 0x11133ed30>"
      ]
     },
     "metadata": {
      "image/png": {
       "height": 195,
       "width": 362
      }
     },
     "output_type": "display_data"
    }
   ],
   "source": [
    "nrows, ncols = 50, 100\n",
    "test_xgrid = np.linspace(0,1,ncols)\n",
    "test_ygrid = np.linspace(-6,6,nrows)\n",
    "test_signal = test_xgrid - test_xgrid**7 + 0.5\n",
    "test_profile = np.exp(-test_ygrid**2)\n",
    "signal_img = np.repeat( np.expand_dims(test_signal,axis=0), repeats=nrows, axis=0 )\n",
    "profile_img = np.repeat( np.expand_dims(test_profile,axis=1), repeats=ncols, axis=1 )\n",
    "\n",
    "signal = signal_img * profile_img\n",
    "plt.imshow(signal)"
   ]
  },
  {
   "cell_type": "code",
   "execution_count": null,
   "metadata": {},
   "outputs": [],
   "source": []
  },
  {
   "cell_type": "code",
   "execution_count": null,
   "metadata": {
    "collapsed": true
   },
   "outputs": [],
   "source": []
  }
 ],
 "metadata": {
  "kernelspec": {
   "display_name": "Python 3",
   "language": "python",
   "name": "python3"
  },
  "language_info": {
   "codemirror_mode": {
    "name": "ipython",
    "version": 3
   },
   "file_extension": ".py",
   "mimetype": "text/x-python",
   "name": "python",
   "nbconvert_exporter": "python",
   "pygments_lexer": "ipython3",
   "version": "3.6.3"
  }
 },
 "nbformat": 4,
 "nbformat_minor": 2
}
